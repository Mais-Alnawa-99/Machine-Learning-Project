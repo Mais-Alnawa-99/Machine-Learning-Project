{
 "cells": [
  {
   "cell_type": "markdown",
   "id": "701a74e9",
   "metadata": {},
   "source": [
    "# ________DEFINE OUR TRAINING MODEL_____"
   ]
  },
  {
   "cell_type": "markdown",
   "id": "2cfddd84",
   "metadata": {},
   "source": [
    "# "
   ]
  },
  {
   "cell_type": "markdown",
   "id": "80d983a5",
   "metadata": {},
   "source": [
    "#     IMPORTING THE LIBRARY"
   ]
  },
  {
   "cell_type": "code",
   "execution_count": 1,
   "id": "059989ab",
   "metadata": {},
   "outputs": [],
   "source": [
    "import tensorflow as tf \n",
    "import keras\n",
    "import cv2\n",
    "import os\n",
    "from os import listdir\n",
    "import numpy as np \n",
    "from sklearn.datasets import load_files\n",
    "\n",
    "from keras.preprocessing import image\n",
    "from keras.preprocessing.image import array_to_img, img_to_array, load_img\n",
    "from keras.preprocessing.image import ImageDataGenerator\n",
    "from sklearn.metrics import confusion_matrix, classification_report\n",
    "from sklearn.utils import shuffle           \n",
    "\n",
    "from keras.models import Sequential\n",
    "from keras.layers.core import Dense, Dropout, Activation, Flatten\n",
    "from keras.layers import Conv2D, MaxPooling2D\n",
    "\n",
    "from keras.utils import np_utils\n",
    "import matplotlib.pyplot as plt"
   ]
  },
  {
   "cell_type": "markdown",
   "id": "e2b428e4",
   "metadata": {},
   "source": [
    "# "
   ]
  },
  {
   "cell_type": "markdown",
   "id": "b61f9946",
   "metadata": {},
   "source": [
    "# READING THE DATASET"
   ]
  },
  {
   "cell_type": "code",
   "execution_count": 2,
   "id": "40c9c3f6",
   "metadata": {
    "scrolled": true
   },
   "outputs": [],
   "source": [
    "def load_dataset(path):\n",
    "    data=load_files(path)\n",
    "    files = np.array(data['filenames'])\n",
    "    targets = np.array(data['target'])\n",
    "    target_labels = np.array(data['target_names'])\n",
    "    return files, targets, target_labels"
   ]
  },
  {
   "cell_type": "code",
   "execution_count": 3,
   "id": "94e4d408",
   "metadata": {},
   "outputs": [
    {
     "name": "stdout",
     "output_type": "stream",
     "text": [
      "------------------------------\n",
      "Training image:\n",
      " Loaded\n",
      "\n",
      "------------------------------\n",
      "Testing image:\n",
      " Loaded\n",
      "------------------------------\n"
     ]
    }
   ],
   "source": [
    "print(\"------------------------------\")\n",
    "print(\"Training image:\")\n",
    "X_train, y_train, target_labels = load_dataset('train')\n",
    "print(' Loaded')\n",
    "print(\"\\n------------------------------\")\n",
    "print(\"Testing image:\")\n",
    "X_test, y_test, _ = load_dataset('test')\n",
    "print(' Loaded')\n",
    "print(\"------------------------------\")"
   ]
  },
  {
   "cell_type": "code",
   "execution_count": 4,
   "id": "9be34b3e",
   "metadata": {},
   "outputs": [
    {
     "name": "stdout",
     "output_type": "stream",
     "text": [
      "Training set samples: 41322\n",
      "Test set samples: 13877\n",
      "number of categories:  81\n"
     ]
    }
   ],
   "source": [
    "n_class=81\n",
    "print('Training set samples:', X_train.shape[0])\n",
    "print('Test set samples:', X_test.shape[0])\n",
    "print('number of categories: ', n_class)"
   ]
  },
  {
   "cell_type": "code",
   "execution_count": 5,
   "id": "6d9ec7c7",
   "metadata": {},
   "outputs": [],
   "source": [
    "y_train=np_utils.to_categorical(y_train, n_class)\n",
    "y_test=np_utils.to_categorical(y_test, n_class)"
   ]
  },
  {
   "cell_type": "code",
   "execution_count": 7,
   "id": "da1c2706",
   "metadata": {},
   "outputs": [],
   "source": [
    "def convert_to_array(pics):\n",
    "    img_arr =[]\n",
    "    for pic in pics:\n",
    "        img_arr.append(img_to_array(load_img(pic)))\n",
    "    return img_arr"
   ]
  },
  {
   "cell_type": "code",
   "execution_count": 8,
   "id": "de931d42",
   "metadata": {},
   "outputs": [
    {
     "name": "stdout",
     "output_type": "stream",
     "text": [
      "----- Done -----\n"
     ]
    }
   ],
   "source": [
    "X_train = np.array(convert_to_array(X_train))\n",
    "X_test = np.array(convert_to_array(X_test))\n",
    "print(\"----- Done -----\")"
   ]
  },
  {
   "cell_type": "code",
   "execution_count": 9,
   "id": "8a7793ab",
   "metadata": {},
   "outputs": [
    {
     "name": "stdout",
     "output_type": "stream",
     "text": [
      "----- Done -----\n"
     ]
    }
   ],
   "source": [
    "X_train = X_train.astype('float32')/255\n",
    "X_test = X_test.astype('float32')/255\n",
    "print(\"----- Done -----\")"
   ]
  },
  {
   "cell_type": "code",
   "execution_count": 10,
   "id": "c6c7a65a",
   "metadata": {},
   "outputs": [
    {
     "name": "stdout",
     "output_type": "stream",
     "text": [
      "data reshaped\n",
      "sample shape for model input:  (100, 100, 3)\n"
     ]
    }
   ],
   "source": [
    "print('data reshaped')\n",
    "print('sample shape for model input: ',X_train[0].shape)"
   ]
  },
  {
   "cell_type": "code",
   "execution_count": 11,
   "id": "f20739a7",
   "metadata": {},
   "outputs": [],
   "source": [
    "X_train,y_train  =  shuffle(X_train, y_train, random_state=20)"
   ]
  },
  {
   "cell_type": "markdown",
   "id": "ffee2426",
   "metadata": {},
   "source": [
    "# "
   ]
  },
  {
   "cell_type": "markdown",
   "id": "c985b4ce",
   "metadata": {},
   "source": [
    "# Define Our Model "
   ]
  },
  {
   "cell_type": "code",
   "execution_count": 3,
   "id": "589f478a",
   "metadata": {},
   "outputs": [
    {
     "name": "stdout",
     "output_type": "stream",
     "text": [
      "Building Convolutional Neural Network.....\n",
      "----- Done -----\n",
      "Model: \"sequential_1\"\n",
      "_________________________________________________________________\n",
      "Layer (type)                 Output Shape              Param #   \n",
      "=================================================================\n",
      "conv2d_4 (Conv2D)            (None, 100, 100, 64)      1792      \n",
      "_________________________________________________________________\n",
      "conv2d_5 (Conv2D)            (None, 100, 100, 64)      36928     \n",
      "_________________________________________________________________\n",
      "max_pooling2d_2 (MaxPooling2 (None, 50, 50, 64)        0         \n",
      "_________________________________________________________________\n",
      "dropout_3 (Dropout)          (None, 50, 50, 64)        0         \n",
      "_________________________________________________________________\n",
      "conv2d_6 (Conv2D)            (None, 50, 50, 32)        18464     \n",
      "_________________________________________________________________\n",
      "conv2d_7 (Conv2D)            (None, 50, 50, 32)        9248      \n",
      "_________________________________________________________________\n",
      "max_pooling2d_3 (MaxPooling2 (None, 25, 25, 32)        0         \n",
      "_________________________________________________________________\n",
      "dropout_4 (Dropout)          (None, 25, 25, 32)        0         \n",
      "_________________________________________________________________\n",
      "flatten_1 (Flatten)          (None, 20000)             0         \n",
      "_________________________________________________________________\n",
      "dense_2 (Dense)              (None, 512)               10240512  \n",
      "_________________________________________________________________\n",
      "dropout_5 (Dropout)          (None, 512)               0         \n",
      "_________________________________________________________________\n",
      "dense_3 (Dense)              (None, 81)                41553     \n",
      "=================================================================\n",
      "Total params: 10,348,497\n",
      "Trainable params: 10,348,497\n",
      "Non-trainable params: 0\n",
      "_________________________________________________________________\n"
     ]
    }
   ],
   "source": [
    "print(\"Building Convolutional Neural Network.....\")\n",
    "\n",
    "CNN = tf.keras.models.Sequential()\n",
    "CNN.add(Conv2D(64, (3, 3), activation=('relu'), padding='same', input_shape= (100, 100, 3) ) )\n",
    "CNN.add(Conv2D(64, (3, 3), activation=('relu'), padding='same' ) )\n",
    "CNN.add(MaxPooling2D(pool_size=(2, 2)))\n",
    "CNN.add(Dropout(0.25))\n",
    "\n",
    "CNN.add(Conv2D(32, (3, 3), activation=('relu'), padding='same' ) )\n",
    "CNN.add(Conv2D(32, (3, 3), activation=('relu'), padding='same' ) )\n",
    "CNN.add(MaxPooling2D(pool_size=(2, 2)))\n",
    "CNN.add(Dropout(0.25))\n",
    "\n",
    "CNN.add(Flatten())\n",
    "CNN.add(Dense(512,  activation='relu'))\n",
    "CNN.add(Dropout(0.5))\n",
    "CNN.add(Dense(81, activation=('softmax') ) )\n",
    "\n",
    "\n",
    "CNN.compile(loss = 'categorical_crossentropy', optimizer ='adam', metrics = ['accuracy'])\n",
    "\n",
    "print(\"----- Done -----\")\n",
    "CNN.summary()"
   ]
  },
  {
   "cell_type": "markdown",
   "id": "ba2fac94",
   "metadata": {},
   "source": [
    "# Train The Module"
   ]
  },
  {
   "cell_type": "code",
   "execution_count": 13,
   "id": "d4f1920e",
   "metadata": {},
   "outputs": [
    {
     "name": "stdout",
     "output_type": "stream",
     "text": [
      "_____Start_Training_____\n",
      "Epoch 1/5\n",
      "1034/1034 [==============================] - 8138s 8s/step - loss: 1.0410 - accuracy: 0.7189 - val_loss: 0.0821 - val_accuracy: 0.9746\n",
      "Epoch 2/5\n",
      "1034/1034 [==============================] - 8143s 8s/step - loss: 0.1402 - accuracy: 0.9535 - val_loss: 0.0121 - val_accuracy: 0.9936\n",
      "Epoch 3/5\n",
      "1034/1034 [==============================] - 8148s 8s/step - loss: 0.0971 - accuracy: 0.9686 - val_loss: 0.0199 - val_accuracy: 0.9914\n",
      "Epoch 4/5\n",
      "1034/1034 [==============================] - 8136s 8s/step - loss: 0.0757 - accuracy: 0.9743 - val_loss: 0.0310 - val_accuracy: 0.9866\n",
      "Epoch 5/5\n",
      "1034/1034 [==============================] - 8156s 8s/step - loss: 0.0682 - accuracy: 0.9773 - val_loss: 0.0094 - val_accuracy: 0.9935\n"
     ]
    }
   ],
   "source": [
    "print(\"_____Start_Training_____\")\n",
    "history = CNN.fit(X_train, y_train, batch_size=32, epochs=5, validation_split = 0.2)"
   ]
  },
  {
   "cell_type": "markdown",
   "id": "44916e22",
   "metadata": {},
   "source": [
    "# "
   ]
  },
  {
   "cell_type": "code",
   "execution_count": 14,
   "id": "d4633367",
   "metadata": {},
   "outputs": [
    {
     "name": "stdout",
     "output_type": "stream",
     "text": [
      "Training Accuracy: 0.9945\n",
      "Training Loss: 0.0087\n",
      "\n",
      "------------------------------------------\n",
      "\n",
      "Validation Accuracy:  0.9444\n",
      "Validation Loss: 0.2742\n",
      "##############################################\n"
     ]
    }
   ],
   "source": [
    "loss, accuracy = CNN.evaluate(X_train, y_train, verbose=False)\n",
    "print(\"Training Accuracy: {:.4f}\".format(accuracy))\n",
    "print(\"Training Loss: {:.4f}\".format(loss))\n",
    "print(\"\\n------------------------------------------\\n\")\n",
    "loss, accuracy = CNN.evaluate(X_test, y_test, verbose=False)\n",
    "print(\"Validation Accuracy:  {:.4f}\".format(accuracy))\n",
    "print(\"Validation Loss: {:.4f}\".format(loss))\n",
    "print(\"##############################################\")"
   ]
  },
  {
   "cell_type": "code",
   "execution_count": 15,
   "id": "b4cc909d",
   "metadata": {},
   "outputs": [],
   "source": [
    "predictions = CNN.predict(X_test)                  # Vector of probabilities\n",
    "predict = np.argmax(predictions, axis = 1)         # We take the highest probability"
   ]
  },
  {
   "cell_type": "markdown",
   "id": "bfc0da33",
   "metadata": {},
   "source": [
    "# "
   ]
  },
  {
   "cell_type": "markdown",
   "id": "7f57a8e3",
   "metadata": {},
   "source": [
    "# Accuracy and Losses visualisation \n"
   ]
  },
  {
   "cell_type": "markdown",
   "id": "a4fce640",
   "metadata": {},
   "source": [
    "summarize history for accuracy"
   ]
  },
  {
   "cell_type": "code",
   "execution_count": 16,
   "id": "aab16889",
   "metadata": {},
   "outputs": [],
   "source": [
    "def plot_history(history):\n",
    "    plt.style.use('ggplot')\n",
    "    acc = history.history['accuracy']\n",
    "    val_acc = history.history['val_accuracy']\n",
    "    loss = history.history['loss']\n",
    "    val_loss = history.history['val_loss']\n",
    "    x = range(1, len(acc) + 1)\n",
    "\n",
    "    plt.figure(figsize=(12, 5))\n",
    "    plt.subplot(1, 2, 1)\n",
    "    plt.plot(x, acc, 'b', label='Training acc')\n",
    "    plt.plot(x, val_acc, 'r', label='Validation acc')\n",
    "    plt.title('Training and validation accuracy')\n",
    "    plt.legend()\n",
    "    plt.subplot(1, 2, 2)\n",
    "    plt.plot(x, loss, 'b', label='Training loss')\n",
    "    plt.plot(x, val_loss, 'r', label='Validation loss')\n",
    "    plt.title('Training and validation loss')\n",
    "    plt.legend()"
   ]
  },
  {
   "cell_type": "code",
   "execution_count": 17,
   "id": "4a83ec61",
   "metadata": {},
   "outputs": [
    {
     "data": {
      "image/png": "[encoded data removed]",
      "text/plain": [
       "<Figure size 864x360 with 2 Axes>"
      ]
     },
     "metadata": {},
     "output_type": "display_data"
    }
   ],
   "source": [
    "plot_history(history)"
   ]
  },
  {
   "cell_type": "markdown",
   "id": "9430f8d7",
   "metadata": {},
   "source": [
    "# "
   ]
  },
  {
   "cell_type": "markdown",
   "id": "af71c16f",
   "metadata": {},
   "source": [
    "#   Save The Module"
   ]
  },
  {
   "cell_type": "code",
   "execution_count": 19,
   "id": "2ea1ff6a",
   "metadata": {},
   "outputs": [
    {
     "name": "stdout",
     "output_type": "stream",
     "text": [
      "WARNING:tensorflow:From C:\\Users\\TK\\anaconda3\\envs\\tensorflow\\lib\\site-packages\\tensorflow\\python\\training\\tracking\\tracking.py:111: Model.state_updates (from tensorflow.python.keras.engine.training) is deprecated and will be removed in a future version.\n",
      "Instructions for updating:\n",
      "This property should not be used in TensorFlow 2.0, as updates are applied automatically.\n",
      "WARNING:tensorflow:From C:\\Users\\TK\\anaconda3\\envs\\tensorflow\\lib\\site-packages\\tensorflow\\python\\training\\tracking\\tracking.py:111: Layer.updates (from tensorflow.python.keras.engine.base_layer) is deprecated and will be removed in a future version.\n",
      "Instructions for updating:\n",
      "This property should not be used in TensorFlow 2.0, as updates are applied automatically.\n",
      "INFO:tensorflow:Assets written to: TRINED_MODEL.model\\assets\n"
     ]
    }
   ],
   "source": [
    "CNN.save(\"TRINED_MODEL.model\")"
   ]
  }
 ],
 "metadata": {
  "kernelspec": {
   "display_name": "Python 3",
   "language": "python",
   "name": "python3"
  },
  "language_info": {
   "codemirror_mode": {
    "name": "ipython",
    "version": 3
   },
   "file_extension": ".py",
   "mimetype": "text/x-python",
   "name": "python",
   "nbconvert_exporter": "python",
   "pygments_lexer": "ipython3",
   "version": "3.8.8"
  }
 },
 "nbformat": 4,
 "nbformat_minor": 5
}
